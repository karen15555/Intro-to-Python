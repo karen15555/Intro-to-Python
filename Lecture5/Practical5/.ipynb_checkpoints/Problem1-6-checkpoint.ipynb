{
 "cells": [
  {
   "cell_type": "markdown",
   "metadata": {},
   "source": [
    "Functions"
   ]
  },
  {
   "cell_type": "markdown",
   "metadata": {},
   "source": [
    "Problem 1"
   ]
  },
  {
   "cell_type": "code",
   "execution_count": 1,
   "metadata": {},
   "outputs": [
    {
     "data": {
      "text/plain": [
       "9.333333333333334"
      ]
     },
     "execution_count": 1,
     "metadata": {},
     "output_type": "execute_result"
    }
   ],
   "source": [
    "def average(x,y,z):\n",
    "    avg = (x+y+z)/3\n",
    "    return avg\n",
    "average(3,10,15)"
   ]
  },
  {
   "cell_type": "code",
   "execution_count": 4,
   "metadata": {},
   "outputs": [
    {
     "name": "stdout",
     "output_type": "stream",
     "text": [
      "calculate an average of first n natural numbers\n",
      "Enter Number 10\n",
      "Average of first 10 number is:  5.5\n"
     ]
    }
   ],
   "source": [
    "print (\"calculate an average of first n natural numbers\")\n",
    "n = input(\"Enter Number \")\n",
    "n = int (n)\n",
    "average = 0\n",
    "sum = 0\n",
    "for num in range(0,n+1,1):\n",
    "    sum = sum+num;\n",
    "average = sum / n\n",
    "print(\"Average of first\",n, \"number is: \", average)"
   ]
  },
  {
   "cell_type": "code",
   "execution_count": null,
   "metadata": {},
   "outputs": [],
   "source": [
    "sum = 0\n",
    "list = [1,2,3,4,5,6,7]\n",
    "for num in list:\n",
    "    sum = sum +num\n",
    "average  = sum / len(list)\n",
    "print (\"sum of list element is : \", sum)\n",
    "print (\"Average of list element is \", average )"
   ]
  },
  {
   "cell_type": "markdown",
   "metadata": {},
   "source": [
    "Problem 2"
   ]
  },
  {
   "cell_type": "code",
   "execution_count": 4,
   "metadata": {},
   "outputs": [
    {
     "name": "stdout",
     "output_type": "stream",
     "text": [
      "4\n"
     ]
    }
   ],
   "source": [
    "def is_even_num(l):\n",
    "    evennum=[]\n",
    "    for n in l:\n",
    "        if n%2==0:\n",
    "            evennum.append(n)\n",
    "    return evennum\n",
    "print(len(is_even_num([1, 2, 3, 4, 5, 6, 7, 8, 9])))    "
   ]
  },
  {
   "cell_type": "code",
   "execution_count": 5,
   "metadata": {},
   "outputs": [
    {
     "name": "stdout",
     "output_type": "stream",
     "text": [
      "Enter a number: 15\n",
      "15 is Odd number\n"
     ]
    }
   ],
   "source": [
    "num = int(input(\"Enter a number: \"))\n",
    "if (num % 2) == 0:\n",
    "    print(\"{0} is Even number\".format(num))\n",
    "else:\n",
    "    print(\"{0} is Odd number\".format(num))"
   ]
  },
  {
   "cell_type": "markdown",
   "metadata": {},
   "source": [
    "Problem 3"
   ]
  },
  {
   "cell_type": "code",
   "execution_count": 2,
   "metadata": {},
   "outputs": [],
   "source": [
    "def func(password):\n",
    "    error=0\n",
    "    #password = input('Enter a password: ')\n",
    "    passlength = len(password)\n",
    "    if passlength<10:\n",
    "        error += 1 \n",
    "        print(False)\n",
    "    elif sum(map(str.isdigit, password)) < 2:\n",
    "        error += 1\n",
    "        print(False)\n",
    "    else:\n",
    "        print(True)"
   ]
  },
  {
   "cell_type": "code",
   "execution_count": 3,
   "metadata": {},
   "outputs": [
    {
     "name": "stdout",
     "output_type": "stream",
     "text": [
      "True\n"
     ]
    }
   ],
   "source": [
    "func('qddjq12gnt')"
   ]
  },
  {
   "cell_type": "markdown",
   "metadata": {},
   "source": [
    "Problem 4"
   ]
  },
  {
   "cell_type": "code",
   "execution_count": 7,
   "metadata": {},
   "outputs": [
    {
     "name": "stdout",
     "output_type": "stream",
     "text": [
      "Karen, Welcome to our company!\n"
     ]
    }
   ],
   "source": [
    "def company(name, greeting = \"Welcome to our company!\"):\n",
    "    print(name+\",\", greeting)\n",
    "company('Karen')"
   ]
  },
  {
   "cell_type": "markdown",
   "metadata": {},
   "source": [
    "Problem 5"
   ]
  },
  {
   "cell_type": "code",
   "execution_count": 10,
   "metadata": {},
   "outputs": [
    {
     "name": "stdout",
     "output_type": "stream",
     "text": [
      "Karen, your average grade is 1.6625\n"
     ]
    }
   ],
   "source": [
    "def grade(name, *arg):\n",
    "    a=0\n",
    "    b=0\n",
    "    for x in arg:\n",
    "        a+=x\n",
    "        b+=1\n",
    "    if b==0:\n",
    "        a=0\n",
    "    else:    \n",
    "        a/=b    \n",
    "    print(name+\",\",\"your average grade is\",a)\n",
    "grade(\"Karen\",1,2,3,1,1,1,1,3.3)"
   ]
  },
  {
   "cell_type": "markdown",
   "metadata": {},
   "source": [
    "Problem 6"
   ]
  },
  {
   "cell_type": "code",
   "execution_count": 17,
   "metadata": {},
   "outputs": [
    {
     "name": "stdout",
     "output_type": "stream",
     "text": [
      "a : 15\n",
      "b : 4\n",
      "access denied to user admin\n"
     ]
    }
   ],
   "source": [
    "def keywordarg(user,**kwarg):\n",
    "    if user==\"admin\":\n",
    "        for x,y in kwarg.items():\n",
    "            print(x,\":\",y)\n",
    "        else:\n",
    "            print(\"access denied to user \"+user)\n",
    "\n",
    "keywordarg(\"admin\",a=15,b=4)\n",
    "\n",
    "keywordarg(\"Name\",a=\"15\",b=\"4\")"
   ]
  },
  {
   "cell_type": "code",
   "execution_count": null,
   "metadata": {},
   "outputs": [],
   "source": []
  }
 ],
 "metadata": {
  "kernelspec": {
   "display_name": "Python 3",
   "language": "python",
   "name": "python3"
  },
  "language_info": {
   "codemirror_mode": {
    "name": "ipython",
    "version": 3
   },
   "file_extension": ".py",
   "mimetype": "text/x-python",
   "name": "python",
   "nbconvert_exporter": "python",
   "pygments_lexer": "ipython3",
   "version": "3.7.3"
  }
 },
 "nbformat": 4,
 "nbformat_minor": 2
}
