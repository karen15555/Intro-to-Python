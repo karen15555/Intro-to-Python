{
 "cells": [
  {
   "cell_type": "markdown",
   "metadata": {},
   "source": [
    "Decorators"
   ]
  },
  {
   "cell_type": "markdown",
   "metadata": {},
   "source": [
    "Problem 8"
   ]
  },
  {
   "cell_type": "code",
   "execution_count": 3,
   "metadata": {},
   "outputs": [
    {
     "name": "stdout",
     "output_type": "stream",
     "text": [
      "['Anna', 'Edgar']\n",
      "['Anna', 'Edgar', 'Eliza', 'Ani', 'Vardan']\n"
     ]
    }
   ],
   "source": [
    "list1 = [\"Anna\",\"Edgar\"]\n",
    "list2 = [\"Eliza\",\"Ani\",\"Vardan\"]\n",
    "\n",
    "def dec(func):\n",
    "    def wrapper(*args,**kwargs):\n",
    "        global list1\n",
    "        print(list1)\n",
    "        list1=func(*args,**kwargs)\n",
    "        print(list1)\n",
    "    return wrapper\n",
    "\n",
    "@dec\n",
    "def add_values(l):\n",
    "    return l+list2\n",
    "\n",
    "add_values(list1)"
   ]
  },
  {
   "cell_type": "markdown",
   "metadata": {},
   "source": [
    "Problem 9"
   ]
  },
  {
   "cell_type": "code",
   "execution_count": 4,
   "metadata": {},
   "outputs": [
    {
     "name": "stdout",
     "output_type": "stream",
     "text": [
      "Hi everyone!!! Welcome to the party\n"
     ]
    }
   ],
   "source": [
    "def low(func):\n",
    "    def wrapper(*args,**kwargs):\n",
    "        string=func(*args,**kwargs)\n",
    "        return string[0]+string.lower()[1:]\n",
    "    return wrapper\n",
    "\n",
    "def add(func):\n",
    "    def wrapper(*args,**kwargs):\n",
    "        string=func(*args,**kwargs)\n",
    "        return string+\"!!! Welcome to the party\"\n",
    "    return wrapper\n",
    "\n",
    "@add\n",
    "@low\n",
    "def hi_everyone():\n",
    "    return \"HI EVERYONE\"\n",
    "\n",
    "print(hi_everyone())"
   ]
  }
 ],
 "metadata": {
  "kernelspec": {
   "display_name": "Python 3",
   "language": "python",
   "name": "python3"
  },
  "language_info": {
   "codemirror_mode": {
    "name": "ipython",
    "version": 3
   },
   "file_extension": ".py",
   "mimetype": "text/x-python",
   "name": "python",
   "nbconvert_exporter": "python",
   "pygments_lexer": "ipython3",
   "version": "3.7.3"
  }
 },
 "nbformat": 4,
 "nbformat_minor": 2
}
