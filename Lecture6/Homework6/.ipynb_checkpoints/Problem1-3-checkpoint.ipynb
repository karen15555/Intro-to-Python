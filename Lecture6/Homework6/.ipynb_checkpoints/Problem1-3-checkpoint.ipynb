{
 "cells": [
  {
   "cell_type": "markdown",
   "metadata": {},
   "source": [
    "Problem 1"
   ]
  },
  {
   "cell_type": "code",
   "execution_count": 4,
   "metadata": {},
   "outputs": [
    {
     "name": "stdout",
     "output_type": "stream",
     "text": [
      "Example No module named 'abcdefghijklmno'\n"
     ]
    }
   ],
   "source": [
    "try:\n",
    "    import abcdefghijklmno\n",
    "except Exception as e:\n",
    "    print(\"Example\",e)"
   ]
  },
  {
   "cell_type": "markdown",
   "metadata": {},
   "source": [
    "Problem 2"
   ]
  },
  {
   "cell_type": "code",
   "execution_count": 6,
   "metadata": {},
   "outputs": [
    {
     "ename": "AssertionError",
     "evalue": "Can't divide",
     "output_type": "error",
     "traceback": [
      "\u001b[0;31m---------------------------------------------------------------------------\u001b[0m",
      "\u001b[0;31mAssertionError\u001b[0m                            Traceback (most recent call last)",
      "\u001b[0;32m<ipython-input-6-ee7f80453b16>\u001b[0m in \u001b[0;36m<module>\u001b[0;34m\u001b[0m\n\u001b[1;32m      2\u001b[0m     \u001b[0;32massert\u001b[0m \u001b[0my\u001b[0m\u001b[0;34m!=\u001b[0m\u001b[0;36m0\u001b[0m\u001b[0;34m,\u001b[0m\u001b[0;34m\"Can't divide\"\u001b[0m\u001b[0;34m\u001b[0m\u001b[0;34m\u001b[0m\u001b[0m\n\u001b[1;32m      3\u001b[0m     \u001b[0;32mreturn\u001b[0m \u001b[0mx\u001b[0m\u001b[0;34m/\u001b[0m\u001b[0my\u001b[0m\u001b[0;34m\u001b[0m\u001b[0;34m\u001b[0m\u001b[0m\n\u001b[0;32m----> 4\u001b[0;31m \u001b[0mprint\u001b[0m\u001b[0;34m(\u001b[0m\u001b[0mdiv\u001b[0m\u001b[0;34m(\u001b[0m\u001b[0;36m15\u001b[0m\u001b[0;34m,\u001b[0m\u001b[0;36m0\u001b[0m\u001b[0;34m)\u001b[0m\u001b[0;34m)\u001b[0m\u001b[0;34m\u001b[0m\u001b[0;34m\u001b[0m\u001b[0m\n\u001b[0m",
      "\u001b[0;32m<ipython-input-6-ee7f80453b16>\u001b[0m in \u001b[0;36mdiv\u001b[0;34m(x, y)\u001b[0m\n\u001b[1;32m      1\u001b[0m \u001b[0;32mdef\u001b[0m \u001b[0mdiv\u001b[0m\u001b[0;34m(\u001b[0m\u001b[0mx\u001b[0m\u001b[0;34m,\u001b[0m\u001b[0my\u001b[0m\u001b[0;34m)\u001b[0m\u001b[0;34m:\u001b[0m\u001b[0;34m\u001b[0m\u001b[0;34m\u001b[0m\u001b[0m\n\u001b[0;32m----> 2\u001b[0;31m     \u001b[0;32massert\u001b[0m \u001b[0my\u001b[0m\u001b[0;34m!=\u001b[0m\u001b[0;36m0\u001b[0m\u001b[0;34m,\u001b[0m\u001b[0;34m\"Can't divide\"\u001b[0m\u001b[0;34m\u001b[0m\u001b[0;34m\u001b[0m\u001b[0m\n\u001b[0m\u001b[1;32m      3\u001b[0m     \u001b[0;32mreturn\u001b[0m \u001b[0mx\u001b[0m\u001b[0;34m/\u001b[0m\u001b[0my\u001b[0m\u001b[0;34m\u001b[0m\u001b[0;34m\u001b[0m\u001b[0m\n\u001b[1;32m      4\u001b[0m \u001b[0mprint\u001b[0m\u001b[0;34m(\u001b[0m\u001b[0mdiv\u001b[0m\u001b[0;34m(\u001b[0m\u001b[0;36m15\u001b[0m\u001b[0;34m,\u001b[0m\u001b[0;36m0\u001b[0m\u001b[0;34m)\u001b[0m\u001b[0;34m)\u001b[0m\u001b[0;34m\u001b[0m\u001b[0;34m\u001b[0m\u001b[0m\n",
      "\u001b[0;31mAssertionError\u001b[0m: Can't divide"
     ]
    }
   ],
   "source": [
    "def div(x,y):\n",
    "    assert y!=0,\"Can't divide\"\n",
    "    return x/y\n",
    "print(div(15,0))"
   ]
  },
  {
   "cell_type": "code",
   "execution_count": 12,
   "metadata": {},
   "outputs": [
    {
     "name": "stdout",
     "output_type": "stream",
     "text": [
      "No such file exists\n",
      "Bye everyone!\n",
      "The input isn't a number\n",
      "('It took', '0.04601478576660156', 'miliseconds')\n"
     ]
    }
   ],
   "source": [
    "import time \n",
    "def dec(func):\n",
    "    def wrap(*args,**kwargs):\n",
    "        t1=time.time()\n",
    "        func(*args,**kwargs)\n",
    "        t2=time.time()\n",
    "        return (\"It took\",str((t2-t1)*1000),\"miliseconds\")\n",
    "    return wrap\n",
    "\n",
    "class Person:\n",
    "    def __init__(self,name,last_name,age,gender,student,password):\n",
    "        self.name=name\n",
    "        self.last_name=last_name\n",
    "        self.age=age\n",
    "        self.gender=gender\n",
    "        self.student=student\n",
    "        self.__password=password\n",
    "\n",
    "    @dec1\n",
    "    def Greeting(self,second_person):\n",
    "        return \"Welcome dear \"+second_person.name\n",
    "\n",
    "    def Goodbye(self):\n",
    "        return \"Bye everyone!\"\n",
    "\n",
    "    def Favourite_num(self, num1):\n",
    "        try:\n",
    "            if type(num1)!=int:\n",
    "                raise ValueError\n",
    "            else:\n",
    "                return (\"My favourite number is\",num1)\n",
    "        except ValueError:\n",
    "            return \"The input isn't a number\"\n",
    "\n",
    "    def Read_file(self,filename):\n",
    "        try:\n",
    "            open(filename+\".txt\")\n",
    "        except Exception:\n",
    "            print(\"No such file exists\")\n",
    "\n",
    "    def setpassword(self,newpassword):\n",
    "        self.__password=newpassword\n",
    "\n",
    "    def getpassword(self):\n",
    "        return self.__password\n",
    "\n",
    "a=Person(\"Michael\",\"Douglas\",55,\"Male\",False,\"sahsgdhksj\")\n",
    "b=Person(\"Ketrin\",\"Zeta Jones\",33,\"Female\",True,\"nss,s.mxd\")\n",
    "a.Read_file(\"abcde\")\n",
    "print(a.Goodbye())\n",
    "print(a.Favourite_num('a'))\n",
    "print(a.Greeting(b))"
   ]
  },
  {
   "cell_type": "code",
   "execution_count": null,
   "metadata": {},
   "outputs": [],
   "source": []
  }
 ],
 "metadata": {
  "kernelspec": {
   "display_name": "Python 3",
   "language": "python",
   "name": "python3"
  },
  "language_info": {
   "codemirror_mode": {
    "name": "ipython",
    "version": 3
   },
   "file_extension": ".py",
   "mimetype": "text/x-python",
   "name": "python",
   "nbconvert_exporter": "python",
   "pygments_lexer": "ipython3",
   "version": "3.7.3"
  }
 },
 "nbformat": 4,
 "nbformat_minor": 2
}
