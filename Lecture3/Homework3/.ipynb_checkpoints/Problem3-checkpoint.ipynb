{
 "cells": [
  {
   "cell_type": "code",
   "execution_count": 1,
   "metadata": {},
   "outputs": [
    {
     "name": "stdout",
     "output_type": "stream",
     "text": [
      "{'Anna', 'a', -2}\n",
      "1\n",
      "3\n"
     ]
    }
   ],
   "source": [
    "t1={1, True, \"a\", -2,\"Anna\"}\n",
    "t1.remove(True)\n",
    "print(t1)\n",
    "\n",
    "t2={1,2,3,4,5}\n",
    "\n",
    "l1=list(t1)\n",
    "l2=list(t2)\n",
    "l3=[]\n",
    "l3.extend(l1[0:2])\n",
    "l3.extend(l2[0:3])\n",
    "t3=tuple(l3)\n",
    "print(t3[2])\n",
    "\n",
    "t4=[(1,3,5), (8,9), (\"Anna\", \"Bob\", \"Alice\")]\n",
    "l4=t4[0]\n",
    "print(l4[1])"
   ]
  },
  {
   "cell_type": "code",
   "execution_count": null,
   "metadata": {},
   "outputs": [],
   "source": []
  }
 ],
 "metadata": {
  "kernelspec": {
   "display_name": "Python 3",
   "language": "python",
   "name": "python3"
  },
  "language_info": {
   "codemirror_mode": {
    "name": "ipython",
    "version": 3
   },
   "file_extension": ".py",
   "mimetype": "text/x-python",
   "name": "python",
   "nbconvert_exporter": "python",
   "pygments_lexer": "ipython3",
   "version": "3.7.3"
  }
 },
 "nbformat": 4,
 "nbformat_minor": 2
}
