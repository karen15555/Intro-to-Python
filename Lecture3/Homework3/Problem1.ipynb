{
 "cells": [
  {
   "cell_type": "code",
   "execution_count": 1,
   "metadata": {},
   "outputs": [
    {
     "name": "stdout",
     "output_type": "stream",
     "text": [
      "5 8\n",
      "[7, 0]\n",
      "[5]\n",
      "[8, 7, 1, 0, -1, -2]\n",
      "[4, 5, 7, 'Lemon', 'Broccoli', 'Carrot']\n"
     ]
    }
   ],
   "source": [
    "a=[1,4,5,7,8,-2,0,-1]\n",
    "a_sorted=list()\n",
    "print(a[2],a[4])\n",
    "\n",
    "a_sorted=a.copy()\n",
    "a_sorted.sort()\n",
    "a_sorted.reverse()\n",
    "print(a_sorted[1::4])\n",
    "print(a_sorted[2::7])\n",
    "\n",
    "a_sorted.pop(2)\n",
    "a_sorted.pop(2)\n",
    "print(a_sorted)\n",
    "\n",
    "\n",
    "b=[\"grapes\",\"Potatoes\",\"tomatoes\",\"Orange\",\"Lemon\",\"Broccoli\",\"Carrot\",\"Sausages\"]\n",
    "b_sorted=b.copy()\n",
    "b_sorted.sort()\n",
    "\n",
    "\n",
    "c=[]\n",
    "c.extend(a[1:4])\n",
    "c.extend(b[4:7])\n",
    "print(c)"
   ]
  },
  {
   "cell_type": "code",
   "execution_count": null,
   "metadata": {},
   "outputs": [],
   "source": []
  }
 ],
 "metadata": {
  "kernelspec": {
   "display_name": "Python 3",
   "language": "python",
   "name": "python3"
  },
  "language_info": {
   "codemirror_mode": {
    "name": "ipython",
    "version": 3
   },
   "file_extension": ".py",
   "mimetype": "text/x-python",
   "name": "python",
   "nbconvert_exporter": "python",
   "pygments_lexer": "ipython3",
   "version": "3.7.3"
  }
 },
 "nbformat": 4,
 "nbformat_minor": 2
}
