{
 "cells": [
  {
   "cell_type": "code",
   "execution_count": 1,
   "metadata": {},
   "outputs": [
    {
     "name": "stdout",
     "output_type": "stream",
     "text": [
      "{'dairy': ['yogurt', 'cheese'], 'fruits': ['banana', 'apple', 'orange', 'lemon', 'apple', 'banana', 'banana']}\n",
      "{'dairy': ['yogurt', 'cheese'], 'fruits': ['lemon', 'apple', 'orange', 'banana'], 'candies': ['mars', 'kinder', 'twix']}\n"
     ]
    }
   ],
   "source": [
    "market={\"dairy\":[\"yogurt\",\"cheese\"],\"fruits\":['banana','apple','orange','lemon','apple','banana','banana']}\n",
    "print(market)\n",
    "\n",
    "market[\"candies\"]=['mars','kinder','twix']\n",
    "market[\"fruits\"].sort()\n",
    "set1=set(market[\"fruits\"])\n",
    "market[\"fruits\"]=list(set1)\n",
    "print(market)"
   ]
  },
  {
   "cell_type": "code",
   "execution_count": null,
   "metadata": {},
   "outputs": [],
   "source": []
  }
 ],
 "metadata": {
  "kernelspec": {
   "display_name": "Python 3",
   "language": "python",
   "name": "python3"
  },
  "language_info": {
   "codemirror_mode": {
    "name": "ipython",
    "version": 3
   },
   "file_extension": ".py",
   "mimetype": "text/x-python",
   "name": "python",
   "nbconvert_exporter": "python",
   "pygments_lexer": "ipython3",
   "version": "3.7.3"
  }
 },
 "nbformat": 4,
 "nbformat_minor": 2
}
