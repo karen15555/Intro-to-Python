{
 "cells": [
  {
   "cell_type": "code",
   "execution_count": 5,
   "metadata": {},
   "outputs": [
    {
     "name": "stdout",
     "output_type": "stream",
     "text": [
      "{False, True, 'Cookies', 8, 'Chocolate', -5, -3}\n",
      "{False, True, 'Jelly', 8, 10, 14, 'Milk', 'Chocolate'}\n",
      "{False, True, 'Cookies', 'Jelly', 8, 10, 14, 'Milk', 'Chocolate', -5, -3}\n",
      "{False, True, 'Chocolate', 8}\n",
      "{False, True, 'Cookies', 'Jelly', 8, 10, 14, 'Milk', 'Kit-Kat', 'Chocolate', -5, 'Oreo', -3}\n",
      "{False, True, 'Cookies', 'Jelly', 8, 10, 14, 'Milk', 'Kit-Kat', 'Chocolate', -5, 'Oreo', -3}\n",
      "True\n",
      "{False, True, 'Cookies', 'Jelly', 8, 10, 14, 'Milk', 'Kit-Kat', 'Chocolate', -5, -3}\n"
     ]
    }
   ],
   "source": [
    "a1=[\"Cookies\", \"Chocolate\", 8, True, -3, -5, \"Chocolate\", 8, False, 8]\n",
    "b1=[8, True, 10, 14, \"Chocolate\", \"Milk\", \"Jelly\", True, False, True]\n",
    "\n",
    "set_a=set(a1)\n",
    "print(set_a)\n",
    "set_b=set(b1)\n",
    "print(set_b)\n",
    "\n",
    "union_ab=set_a.union(set_b)\n",
    "print(union_ab)\n",
    "\n",
    "intersection_ab=set_a.intersection(set_b)\n",
    "print(intersection_ab)\n",
    "\n",
    "union_ab.add(\"Kit-Kat\")\n",
    "union_ab.add(\"Oreo\")\n",
    "print(union_ab)\n",
    "\n",
    "new_set=(union_ab or intersection_ab)\n",
    "print(new_set)\n",
    "\n",
    "print(\"Chocolate\" in new_set)\n",
    "new_set.remove(\"Oreo\")\n",
    "print(new_set)"
   ]
  },
  {
   "cell_type": "code",
   "execution_count": null,
   "metadata": {},
   "outputs": [],
   "source": []
  }
 ],
 "metadata": {
  "kernelspec": {
   "display_name": "Python 3",
   "language": "python",
   "name": "python3"
  },
  "language_info": {
   "codemirror_mode": {
    "name": "ipython",
    "version": 3
   },
   "file_extension": ".py",
   "mimetype": "text/x-python",
   "name": "python",
   "nbconvert_exporter": "python",
   "pygments_lexer": "ipython3",
   "version": "3.7.3"
  }
 },
 "nbformat": 4,
 "nbformat_minor": 2
}
