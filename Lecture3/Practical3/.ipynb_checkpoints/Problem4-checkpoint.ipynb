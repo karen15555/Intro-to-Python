{
 "cells": [
  {
   "cell_type": "code",
   "execution_count": 2,
   "metadata": {},
   "outputs": [
    {
     "name": "stderr",
     "output_type": "stream",
     "text": [
      "usage: ipykernel_launcher.py [-h] list4\n",
      "ipykernel_launcher.py: error: argument list4: invalid int value: '/Users/Karen/Library/Jupyter/runtime/kernel-625df9f0-f108-4515-9871-ce69adf835c3.json'\n"
     ]
    },
    {
     "ename": "SystemExit",
     "evalue": "2",
     "output_type": "error",
     "traceback": [
      "An exception has occurred, use %tb to see the full traceback.\n",
      "\u001b[0;31mSystemExit\u001b[0m\u001b[0;31m:\u001b[0m 2\n"
     ]
    }
   ],
   "source": [
    "import argparse\n",
    "new_list4 = ['Berlin', 'hello', 555, 'Deutsche Bank', 60325, 15555]\n",
    "parser = argparse.ArgumentParser()\n",
    "\n",
    "parser.add_argument(\"list4\", type=int)\n",
    "args = parser.parse_args()\n",
    "\n",
    "print('List before del:',new_list4)\n",
    "del new_list4[0]\n",
    "print('List after del:',new_list4)\n"
   ]
  },
  {
   "cell_type": "code",
   "execution_count": null,
   "metadata": {},
   "outputs": [],
   "source": []
  }
 ],
 "metadata": {
  "kernelspec": {
   "display_name": "Python 3",
   "language": "python",
   "name": "python3"
  },
  "language_info": {
   "codemirror_mode": {
    "name": "ipython",
    "version": 3
   },
   "file_extension": ".py",
   "mimetype": "text/x-python",
   "name": "python",
   "nbconvert_exporter": "python",
   "pygments_lexer": "ipython3",
   "version": "3.7.3"
  }
 },
 "nbformat": 4,
 "nbformat_minor": 2
}
