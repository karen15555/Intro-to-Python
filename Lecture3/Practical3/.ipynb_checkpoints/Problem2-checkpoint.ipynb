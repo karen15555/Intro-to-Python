{
 "cells": [
  {
   "cell_type": "code",
   "execution_count": 2,
   "metadata": {},
   "outputs": [
    {
     "name": "stdout",
     "output_type": "stream",
     "text": [
      "['hello', 1, True]\n",
      "['hello', 1, True, '-f', '/Users/Karen/Library/Jupyter/runtime/kernel-1a0e8ca2-5b2c-4878-b4ad-f1334eb92c56.json']\n"
     ]
    }
   ],
   "source": [
    "import sys\n",
    "\n",
    "list1 = [\"hello\", 1, True]\n",
    "print(list1)\n",
    "\n",
    "#sys.argv[0] means Problem1.py, hence we start from [1:]\n",
    "list2 = list1.copy()\n",
    "#list2.extend(sys.argv[1:])\n",
    "#print(list2)\n",
    "new_list1 = (sys.argv[1:])\n",
    "print(list2+new_list1)\n"
   ]
  },
  {
   "cell_type": "code",
   "execution_count": null,
   "metadata": {},
   "outputs": [],
   "source": []
  }
 ],
 "metadata": {
  "kernelspec": {
   "display_name": "Python 3",
   "language": "python",
   "name": "python3"
  },
  "language_info": {
   "codemirror_mode": {
    "name": "ipython",
    "version": 3
   },
   "file_extension": ".py",
   "mimetype": "text/x-python",
   "name": "python",
   "nbconvert_exporter": "python",
   "pygments_lexer": "ipython3",
   "version": "3.7.3"
  }
 },
 "nbformat": 4,
 "nbformat_minor": 2
}
