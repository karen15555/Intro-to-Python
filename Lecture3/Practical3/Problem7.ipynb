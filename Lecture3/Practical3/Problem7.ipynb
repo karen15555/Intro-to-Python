{
 "cells": [
  {
   "cell_type": "code",
   "execution_count": 1,
   "metadata": {},
   "outputs": [
    {
     "name": "stdout",
     "output_type": "stream",
     "text": [
      "[1, 2, 3, 4, 5, 6, 7, 8, 9]\n",
      "[10, 11, 12, 13, 14, 15, 16, 17, 18, 19, 20]\n",
      "[1, 2, 3, 4, 5, 6, 7, 8, [10, 11, 12, 13, 14, 15, 16, 17, 18, 19, 20]]\n",
      "[1, 2, 3, 4, 5, 6, 7, 8, [10, 11, 12, 13, 14, 15, 16, 17, 18, 19, 20], 10, 11, 12, 13, 14, 15, 16, 17, 18, 19, 20]\n"
     ]
    }
   ],
   "source": [
    "l1 =list(range(1,10))\n",
    "print(l1)\n",
    "l2=list(range(10,21))\n",
    "print(l2)\n",
    "#l1.pop(-1)\n",
    "l1 = l1[:-1]\n",
    "l1.append(l2)\n",
    "print(l1)  \n",
    "l1.extend(l2) \n",
    "print(l1)   "
   ]
  },
  {
   "cell_type": "code",
   "execution_count": null,
   "metadata": {},
   "outputs": [],
   "source": []
  }
 ],
 "metadata": {
  "kernelspec": {
   "display_name": "Python 3",
   "language": "python",
   "name": "python3"
  },
  "language_info": {
   "codemirror_mode": {
    "name": "ipython",
    "version": 3
   },
   "file_extension": ".py",
   "mimetype": "text/x-python",
   "name": "python",
   "nbconvert_exporter": "python",
   "pygments_lexer": "ipython3",
   "version": "3.7.3"
  }
 },
 "nbformat": 4,
 "nbformat_minor": 2
}
