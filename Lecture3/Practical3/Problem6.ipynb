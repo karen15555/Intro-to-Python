{
 "cells": [
  {
   "cell_type": "code",
   "execution_count": 2,
   "metadata": {},
   "outputs": [
    {
     "name": "stdout",
     "output_type": "stream",
     "text": [
      "List before del: ['Berlin', 'hello', 555, 'Deutsche Bank', 60325, 15555]\n",
      "List after del: ['hello', 555, 'Deutsche Bank']\n"
     ]
    }
   ],
   "source": [
    "list5 = ['Berlin', 'hello', 555, 'Deutsche Bank', 60325, 15555]\n",
    "print('List before del:', list5)\n",
    "list6=list5.copy()\n",
    "# if you want to del 0,4,5 start from the end\n",
    "del list6[-6]\n",
    "del list6[-2]\n",
    "del list6[-1]\n",
    "#list5.pop(0), list5.pop(4), list5.pop(5)\n",
    "print('List after del:', list6)"
   ]
  },
  {
   "cell_type": "code",
   "execution_count": null,
   "metadata": {},
   "outputs": [],
   "source": []
  }
 ],
 "metadata": {
  "kernelspec": {
   "display_name": "Python 3",
   "language": "python",
   "name": "python3"
  },
  "language_info": {
   "codemirror_mode": {
    "name": "ipython",
    "version": 3
   },
   "file_extension": ".py",
   "mimetype": "text/x-python",
   "name": "python",
   "nbconvert_exporter": "python",
   "pygments_lexer": "ipython3",
   "version": "3.7.3"
  }
 },
 "nbformat": 4,
 "nbformat_minor": 2
}
