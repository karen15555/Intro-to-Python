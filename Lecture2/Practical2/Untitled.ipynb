{
 "cells": [
  {
   "cell_type": "code",
   "execution_count": 1,
   "metadata": {},
   "outputs": [],
   "source": [
    "str1 = \"How are you John?\""
   ]
  },
  {
   "cell_type": "code",
   "execution_count": 8,
   "metadata": {},
   "outputs": [],
   "source": [
    "name = \"Karen\""
   ]
  },
  {
   "cell_type": "code",
   "execution_count": 9,
   "metadata": {},
   "outputs": [
    {
     "name": "stdout",
     "output_type": "stream",
     "text": [
      "How are you Karen?\n"
     ]
    }
   ],
   "source": [
    "str2 = str1.replace(\"John\", name)\n",
    "print(str2)"
   ]
  },
  {
   "cell_type": "code",
   "execution_count": 10,
   "metadata": {},
   "outputs": [
    {
     "name": "stdout",
     "output_type": "stream",
     "text": [
      "How are you Karen?\n"
     ]
    }
   ],
   "source": [
    "str2=str1[0:12]+name+str1[-1]\n",
    "print(str2)"
   ]
  },
  {
   "cell_type": "code",
   "execution_count": 16,
   "metadata": {},
   "outputs": [
    {
     "name": "stdout",
     "output_type": "stream",
     "text": [
      "Hi, where are you from?\n",
      "I'm from Armenia\n",
      "How long have you lived here?\n",
      "For 10 years\n"
     ]
    }
   ],
   "source": [
    "country = \"Armenia\"\n",
    "\n",
    "years = 10\n",
    "\n",
    "print(\"Hi, where are you from?\")\n",
    "print(\"I'm from \" + country)\n",
    "print(\"How long have you lived here?\")\n",
    "print(\"For\",years, \"years\")"
   ]
  },
  {
   "cell_type": "code",
   "execution_count": 17,
   "metadata": {},
   "outputs": [],
   "source": [
    "import datetime"
   ]
  },
  {
   "cell_type": "code",
   "execution_count": 18,
   "metadata": {},
   "outputs": [
    {
     "data": {
      "text/plain": [
       "datetime.date(2019, 9, 3)"
      ]
     },
     "execution_count": 18,
     "metadata": {},
     "output_type": "execute_result"
    }
   ],
   "source": [
    "tday = datetime.date.today()\n",
    "tday"
   ]
  },
  {
   "cell_type": "code",
   "execution_count": 27,
   "metadata": {},
   "outputs": [
    {
     "name": "stdout",
     "output_type": "stream",
     "text": [
      "Local current time : time.struct_time(tm_year=2019, tm_mon=9, tm_mday=3, tm_hour=23, tm_min=43, tm_sec=21, tm_wday=1, tm_yday=246, tm_isdst=0)\n",
      "1567539764.597385\n",
      "Date:  2019-09-03\n",
      "Year:  2019\n",
      "Month:  9\n",
      "Week:  2\n"
     ]
    }
   ],
   "source": [
    "import datetime\n",
    "import time\n",
    "import calendar\n",
    "\n",
    "tday = datetime.date.today()\n",
    "localtime = time.localtime()\n",
    "print (\"Local current time :\", localtime)\n",
    "\n",
    "print(ticks)\n",
    "print('Date: ', tday)\n",
    "print('Year: ', tday.year)\n",
    "print('Month: ', tday.month)\n",
    "print('Week: ', tday.isoweekday())"
   ]
  },
  {
   "cell_type": "code",
   "execution_count": null,
   "metadata": {},
   "outputs": [],
   "source": []
  }
 ],
 "metadata": {
  "kernelspec": {
   "display_name": "Python 3",
   "language": "python",
   "name": "python3"
  },
  "language_info": {
   "codemirror_mode": {
    "name": "ipython",
    "version": 3
   },
   "file_extension": ".py",
   "mimetype": "text/x-python",
   "name": "python",
   "nbconvert_exporter": "python",
   "pygments_lexer": "ipython3",
   "version": "3.7.3"
  }
 },
 "nbformat": 4,
 "nbformat_minor": 2
}
