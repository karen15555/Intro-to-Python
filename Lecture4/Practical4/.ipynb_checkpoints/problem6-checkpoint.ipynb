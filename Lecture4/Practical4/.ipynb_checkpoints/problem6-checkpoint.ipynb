{
 "cells": [
  {
   "cell_type": "code",
   "execution_count": 1,
   "metadata": {},
   "outputs": [
    {
     "name": "stdout",
     "output_type": "stream",
     "text": [
      "c =  1\n",
      "c =  3\n",
      "c =  5\n",
      "c =  6\n"
     ]
    }
   ],
   "source": [
    "c = 0\n",
    "\n",
    "while c<6:\n",
    "    c += 1\n",
    "#for c in range(7):    \n",
    "    if c == 2 or c == 4 :\n",
    "        continue\n",
    "    print('c = ',c)"
   ]
  }
 ],
 "metadata": {
  "kernelspec": {
   "display_name": "Python 3",
   "language": "python",
   "name": "python3"
  },
  "language_info": {
   "codemirror_mode": {
    "name": "ipython",
    "version": 3
   },
   "file_extension": ".py",
   "mimetype": "text/x-python",
   "name": "python",
   "nbconvert_exporter": "python",
   "pygments_lexer": "ipython3",
   "version": "3.7.3"
  }
 },
 "nbformat": 4,
 "nbformat_minor": 2
}
