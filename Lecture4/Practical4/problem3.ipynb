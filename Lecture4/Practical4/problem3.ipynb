{
 "cells": [
  {
   "cell_type": "code",
   "execution_count": 42,
   "metadata": {},
   "outputs": [
    {
     "name": "stdout",
     "output_type": "stream",
     "text": [
      "Kare\n",
      "33\n",
      "py*555\n"
     ]
    }
   ],
   "source": [
    "name = str(input())\n",
    "age = int(input())\n",
    "password = input()"
   ]
  },
  {
   "cell_type": "code",
   "execution_count": 43,
   "metadata": {},
   "outputs": [
    {
     "data": {
      "text/plain": [
       "'py*555'"
      ]
     },
     "execution_count": 43,
     "metadata": {},
     "output_type": "execute_result"
    }
   ],
   "source": [
    "password"
   ]
  },
  {
   "cell_type": "code",
   "execution_count": 49,
   "metadata": {},
   "outputs": [],
   "source": [
    "if name == \"Batman\":\n",
    "    print(\"Welcome Mr. Batman!\")\n",
    "else:\n",
    "\n",
    "    if age<16:\n",
    "        print(\"Dear \" + name + \", you are too young to register\")\n",
    "    if \"*\" not in password and \"&\" not in password:\n",
    "        print(\"Please enter a different password\")\n"
   ]
  },
  {
   "cell_type": "code",
   "execution_count": 48,
   "metadata": {},
   "outputs": [
    {
     "name": "stdout",
     "output_type": "stream",
     "text": [
      "Dear Kare, you are too young to register\n"
     ]
    }
   ],
   "source": [
    "if age<16 and name ==\"Batman\":\n",
    "    pass\n",
    "else:\n",
    "    print(\"Dear \" + name + \", you are too young to register\")\n",
    "if age<16:\n",
    "    print(\"Dear \" + name + \", you are too young to register\")\n",
    "if \"*\" not in password and \"&\" not in password:\n",
    "    print(\"Please enter a different password\")\n",
    "if name == \"Batman\":\n",
    "    print(\"Welcome Mr. Batman!\")\n",
    "if age<16 and \"*\" not in password and \"&\" not in password and name == \"Batman\":\n",
    "    print(\"Welcome Mr. Batman!\")"
   ]
  },
  {
   "cell_type": "code",
   "execution_count": null,
   "metadata": {},
   "outputs": [],
   "source": []
  }
 ],
 "metadata": {
  "kernelspec": {
   "display_name": "Python 3",
   "language": "python",
   "name": "python3"
  },
  "language_info": {
   "codemirror_mode": {
    "name": "ipython",
    "version": 3
   },
   "file_extension": ".py",
   "mimetype": "text/x-python",
   "name": "python",
   "nbconvert_exporter": "python",
   "pygments_lexer": "ipython3",
   "version": "3.7.3"
  }
 },
 "nbformat": 4,
 "nbformat_minor": 2
}
